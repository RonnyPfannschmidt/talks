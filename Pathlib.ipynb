{
 "cells": [
  {
   "cell_type": "markdown",
   "metadata": {},
   "source": [
    "# pathlib\n",
    "\n",
    "* mein zugang\n",
    "* grobes\n",
    "* überblick\n",
    "* beispiele\n",
    "* api vergleich\n",
    "* roast me\n"
   ]
  },
  {
   "cell_type": "markdown",
   "metadata": {
    "slideshow": {
     "slide_type": "slide"
    }
   },
   "source": [
    "# mein zugang\n",
    "\n",
    "* pytest -> `py.path.local` \"tot\"\n",
    "* eigene scripte\n",
    "\n",
    "\n"
   ]
  },
  {
   "cell_type": "markdown",
   "metadata": {
    "slideshow": {
     "slide_type": "slide"
    }
   },
   "source": [
    "# grobes"
   ]
  },
  {
   "cell_type": "markdown",
   "metadata": {
    "slideshow": {
     "slide_type": "fragment"
    }
   },
   "source": [
    "* pro\n",
    "  * konsistent\n",
    "  * objektorientiert\n",
    "  * aufgeräumt (vergleiche \"os.path.*\")\n",
    "  * Teil der stdlib seit `python 3.4` , ab `python 3.6` super"
   ]
  },
  {
   "cell_type": "markdown",
   "metadata": {
    "slideshow": {
     "slide_type": "fragment"
    }
   },
   "source": [
    "* kontra\n",
    "  * low-level \n",
    " \n",
    "  * nur für tatsächliche filesysteme implementiert (kein memory/mapping/zipfile \"filesystem\")\n",
    "  * fehlende \"beels & whistles\"\n",
    "      * rmtree\n",
    "      * locking\n",
    "      \n",
    "  "
   ]
  },
  {
   "cell_type": "markdown",
   "metadata": {
    "slideshow": {
     "slide_type": "slide"
    }
   },
   "source": [
    "## pathlib Vererbungsbaum\n",
    "\n",
    "![pathlib](images/pathlib-inheritance.png)"
   ]
  },
  {
   "cell_type": "markdown",
   "metadata": {
    "slideshow": {
     "slide_type": "slide"
    }
   },
   "source": [
    "# Path example"
   ]
  },
  {
   "cell_type": "code",
   "execution_count": 2,
   "metadata": {
    "slideshow": {
     "slide_type": "fragment"
    }
   },
   "outputs": [
    {
     "data": {
      "text/plain": [
       "PosixPath('/home/rpfannsc/Projects/RonnyPfannschmidt/talks')"
      ]
     },
     "execution_count": 2,
     "metadata": {},
     "output_type": "execute_result"
    }
   ],
   "source": [
    "from pathlib import Path\n",
    "\n",
    "p = Path.cwd()\n",
    "p"
   ]
  },
  {
   "cell_type": "code",
   "execution_count": 3,
   "metadata": {
    "slideshow": {
     "slide_type": "fragment"
    }
   },
   "outputs": [
    {
     "data": {
      "text/plain": [
       "['Pathlib.slides.html']"
      ]
     },
     "execution_count": 3,
     "metadata": {},
     "output_type": "execute_result"
    }
   ],
   "source": [
    "[x.name for x in p.glob(\"*.html\")]"
   ]
  },
  {
   "cell_type": "markdown",
   "metadata": {
    "slideshow": {
     "slide_type": "subslide"
    }
   },
   "source": [
    "# vergleich\n",
    "\n",
    "\n",
    "```python\n",
    "from os import makedirs\n",
    "from os.path import join\n",
    "mydir = join('myfiles', 'docs')\n",
    "myfname = join(mydir, 'readme.txt')\n",
    "makedirs(mydir, exist_ok=True)\n",
    "with open(myfname, 'w') as wf:\n",
    "    wf.write(\"Hello world\")\n",
    "\n",
    "```\n"
   ]
  },
  {
   "cell_type": "markdown",
   "metadata": {
    "slideshow": {
     "slide_type": "subslide"
    }
   },
   "source": [
    "# vergleich\n",
    "\n",
    "\n",
    "```python\n",
    "from pathlib import Path\n",
    "mydir = Path('myfiles', 'docs')\n",
    "mydir.mkdir(exist_ok=True, parents=True)\n",
    "myfname = mydir.joinpath('readme.txt')\n",
    "myfname.write_text(\"Hello world\")\n",
    "```"
   ]
  },
  {
   "cell_type": "markdown",
   "metadata": {
    "slideshow": {
     "slide_type": "slide"
    }
   },
   "source": [
    "# roast me\n",
    "\n",
    "* alternativen ?\n",
    "    * `path.py`\n",
    "    * `fspath`"
   ]
  }
 ],
 "metadata": {
  "celltoolbar": "Slideshow",
  "kernelspec": {
   "display_name": "Python 3",
   "language": "python",
   "name": "python3"
  },
  "language_info": {
   "codemirror_mode": {
    "name": "ipython",
    "version": 3
   },
   "file_extension": ".py",
   "mimetype": "text/x-python",
   "name": "python",
   "nbconvert_exporter": "python",
   "pygments_lexer": "ipython3",
   "version": "3.7.0"
  }
 },
 "nbformat": 4,
 "nbformat_minor": 2
}
